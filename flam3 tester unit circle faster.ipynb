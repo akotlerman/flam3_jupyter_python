{
 "cells": [
  {
   "cell_type": "code",
   "execution_count": 1,
   "metadata": {
    "collapsed": true
   },
   "outputs": [],
   "source": [
    "import random\n",
    "import math\n",
    "import numpy as np\n",
    "import matplotlib.pyplot as plt \n",
    "import numba as nb\n",
    "%matplotlib inline\n",
    "\n",
    "def mat_to_color(mat):\n",
    "    colors = np.array(((66, 66, 111), (244, 164, 96)))\n",
    "    index = np.digitize(mat.ravel(), [0,1], right=True)\n",
    "    return colors[index].reshape(mat.shape + (3,)).astype(np.uint8)\n",
    "\n",
    "def plot_color(mat):\n",
    "    fig, ax = plt.subplots()\n",
    "    h = ax.imshow(mat_to_color(mat))\n",
    "    plt.show()\n",
    "    \n",
    "def point_to_image_mat(mat, img_size=(500,500)):\n",
    "    mat = np.array(mat).T\n",
    "    x_max, x_min = mat[0].max(), mat[0].min()\n",
    "    y_max, y_min = mat[1].max(), mat[1].min()\n",
    "    x_rng, y_rng = x_max - x_min, y_max - y_min\n",
    "    mul_factor_x = (img_size[0]-1)/x_rng\n",
    "    mul_factor_y = (img_size[1]-1)/y_rng\n",
    "    img = np.zeros(img_size)\n",
    "    for x, y in mat.T:\n",
    "        img[int((x - x_min)*mul_factor_x),int((y - y_min)*mul_factor_y)] = 1\n",
    "    return img\n",
    "\n",
    "def plot_points(mat, img_size=(500,500)):\n",
    "    plot_color(point_to_image_mat(mat, img_size))"
   ]
  },
  {
   "cell_type": "code",
   "execution_count": 7,
   "metadata": {},
   "outputs": [
    {
     "data": {
      "image/png": "[encoded data removed]",
      "text/plain": [
       "<matplotlib.figure.Figure at 0x29db7ab5da0>"
      ]
     },
     "metadata": {},
     "output_type": "display_data"
    },
    {
     "name": "stdout",
     "output_type": "stream",
     "text": [
      "115 ms ± 11.3 ms per loop (mean ± std. dev. of 7 runs, 10 loops each)\n"
     ]
    }
   ],
   "source": [
    "def instantiate_points(point_count):\n",
    "    # Creates points on a unit circle of count pointCount\n",
    "    # The radius of this circle is 1\n",
    "    points = []\n",
    "    for i in range(point_count):\n",
    "        const = 2 * math.pi * i / point_count\n",
    "        x, y = math.sin(const), math.cos(const)\n",
    "        points.append([x,y])\n",
    "\n",
    "    return points\n",
    "\n",
    "def choices(conditionArray):\n",
    "    pointCount = len(conditionArray)\n",
    "    choice = random.randint(0, pointCount - 1)\n",
    "    \n",
    "    while True:\n",
    "        for _ in range(100):\n",
    "            # Loop until we find an index that has a true value in conditionArray\n",
    "            potential_choice = random.randint(0, pointCount - 1)\n",
    "            idx = (potential_choice - choice) % pointCount\n",
    "            if not conditionArray[idx]:\n",
    "                choice = potential_choice\n",
    "                yield choice\n",
    "\n",
    "def create_point(point, edge_point, scaling_factor=2):\n",
    "    x, y = point\n",
    "    _x, _y = edge_point\n",
    "    return ((x + _x)/scaling_factor, (y + _y)/scaling_factor)\n",
    "\n",
    "def fractal(iters=50000, dry_fire=1000, point_count=3, \n",
    "            scaling_factor=2, selection_limiter=None):\n",
    "    \n",
    "    if selection_limiter is None:\n",
    "        selection_limiter = [False]*point_count        \n",
    "        \n",
    "    point = [random.uniform(-1,1), random.uniform(-1,1)]\n",
    "    \n",
    "    choice_gen = choices(selection_limiter)\n",
    "    points_array = instantiate_points(point_count)\n",
    "    choice = None\n",
    "    mat = list(points_array)\n",
    "    \n",
    "    for i in range(iters):\n",
    "        choice = next(choice_gen)\n",
    "        point = create_point(point, points_array[choice], \n",
    "                             scaling_factor=scaling_factor)\n",
    "        if i > dry_fire:\n",
    "            mat.append(point)\n",
    "    \n",
    "    return mat\n",
    "\n",
    "plot_points(fractal())\n",
    "%timeit fractal()"
   ]
  },
  {
   "cell_type": "code",
   "execution_count": 64,
   "metadata": {
    "scrolled": false
   },
   "outputs": [
    {
     "data": {
      "image/png": "[encoded data removed]",
      "text/plain": [
       "<matplotlib.figure.Figure at 0x29db97292e8>"
      ]
     },
     "metadata": {},
     "output_type": "display_data"
    },
    {
     "name": "stdout",
     "output_type": "stream",
     "text": [
      "23.8 ms ± 8.59 ms per loop (mean ± std. dev. of 7 runs, 10 loops each)\n"
     ]
    }
   ],
   "source": [
    "@nb.jit(nopython=True)\n",
    "def instantiate_points(point_count):\n",
    "    # Creates points on a unit circle of count pointCount\n",
    "    # The radius of this circle is 1\n",
    "    points = np.zeros((point_count,2))\n",
    "    for i in range(point_count):\n",
    "        const = 2 * math.pi * i / point_count\n",
    "        x, y = math.sin(const), math.cos(const)\n",
    "        points[i] = [x,y]\n",
    "\n",
    "    return points\n",
    "\n",
    "@nb.jit(nopython=True)\n",
    "def choices(conditionArray):\n",
    "    pointCount = len(conditionArray)\n",
    "    choice = random.randint(0, pointCount - 1)\n",
    "    \n",
    "    while True:\n",
    "        for _ in range(100):\n",
    "            # Loop until we find an index that has a true value in conditionArray\n",
    "            potential_choice = random.randint(0, pointCount - 1)\n",
    "            idx = int((potential_choice - choice) % pointCount)\n",
    "            if not conditionArray[idx]:\n",
    "                choice = potential_choice\n",
    "                yield choice\n",
    "\n",
    "@nb.jit(nb.types.UniTuple(nb.float64,2)(nb.float64, nb.float64, nb.float64, nb.float64, nb.int16),nopython=True)\n",
    "def create_point(pointx, pointy, edgex, edgey, scaling_factor=2):\n",
    "    return ((pointx + edgex)/scaling_factor, (pointy + edgey)/scaling_factor)\n",
    "\n",
    "@nb.jit(nopython=True)\n",
    "def fractal_loop(selection_limiter, scaling_factor, iters, dry_fire, point_count):\n",
    "    gen_choice = choices(selection_limiter)\n",
    "    point = (random.uniform(-1,1), random.uniform(-1,1))\n",
    "    points_array = instantiate_points(point_count)\n",
    "    mat = np.zeros((iters, 2))\n",
    "    for i in range(-dry_fire, iters):\n",
    "        choice = points_array[next(gen_choice)]\n",
    "        point = create_point(point[0], point[1], choice[0], choice[1],\n",
    "                             scaling_factor=scaling_factor)\n",
    "        if i >= 0:\n",
    "            mat[i] = point\n",
    "    return mat    \n",
    "\n",
    "def fractal(iters=50000, dry_fire=1000, point_count=3, \n",
    "            scaling_factor=2, selection_limiter=None):\n",
    "    \n",
    "    if selection_limiter is None:\n",
    "        selection_limiter = [False]*point_count\n",
    "    \n",
    "    return fractal_loop(selection_limiter, scaling_factor, iters, dry_fire, point_count)\n",
    "\n",
    "plot_points(fractal())\n",
    "#%timeit fractal()"
   ]
  },
  {
   "cell_type": "code",
   "execution_count": 66,
   "metadata": {},
   "outputs": [
    {
     "name": "stdout",
     "output_type": "stream",
     "text": [
      "         5 function calls in 0.019 seconds\n",
      "\n",
      "   Ordered by: standard name\n",
      "\n",
      "   ncalls  tottime  percall  cumtime  percall filename:lineno(function)\n",
      "        1    0.017    0.017    0.017    0.017 <ipython-input-64-298ccaf24cad>:31(fractal_loop)\n",
      "        1    0.000    0.000    0.018    0.018 <ipython-input-64-298ccaf24cad>:45(fractal)\n",
      "        1    0.001    0.001    0.019    0.019 <string>:1(<module>)\n",
      "        1    0.000    0.000    0.019    0.019 {built-in method builtins.exec}\n",
      "        1    0.000    0.000    0.000    0.000 {method 'disable' of '_lsprof.Profiler' objects}\n",
      "\n",
      "\n"
     ]
    }
   ],
   "source": [
    "import cProfile\n",
    "cProfile.run('fractal()')"
   ]
  },
  {
   "cell_type": "code",
   "execution_count": null,
   "metadata": {
    "collapsed": true
   },
   "outputs": [],
   "source": []
  }
 ],
 "metadata": {
  "kernelspec": {
   "display_name": "Python 3",
   "language": "python",
   "name": "python3"
  },
  "language_info": {
   "codemirror_mode": {
    "name": "ipython",
    "version": 3
   },
   "file_extension": ".py",
   "mimetype": "text/x-python",
   "name": "python",
   "nbconvert_exporter": "python",
   "pygments_lexer": "ipython3",
   "version": "3.6.3"
  }
 },
 "nbformat": 4,
 "nbformat_minor": 2
}
