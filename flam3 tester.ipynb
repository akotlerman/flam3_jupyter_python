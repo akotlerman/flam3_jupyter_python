{
 "cells": [
  {
   "cell_type": "markdown",
   "metadata": {},
   "source": [
    "# Introduction\n",
    "\n",
    "The following is a test of the algorithm found in a popular GPL licensed algorithm called **The Flame Draves Algorithm** found here:\n",
    "\n",
    "http://www.flam3.com/flame_draves.pdf\n",
    "\n",
    "This algorithm is used to generate fractal frames in a beautiful way."
   ]
  },
  {
   "cell_type": "code",
   "execution_count": 10,
   "metadata": {},
   "outputs": [
    {
     "name": "stdout",
     "output_type": "stream",
     "text": [
      "Testing the plotting mechanism\n"
     ]
    },
    {
     "data": {
      "image/png": "[encoded data removed]",
      "text/plain": [
       "<matplotlib.figure.Figure at 0x13ac7c0ec50>"
      ]
     },
     "metadata": {},
     "output_type": "display_data"
    }
   ],
   "source": [
    "# Test and create a way to plot a numpy matrix or 2D array\n",
    "import random\n",
    "import math\n",
    "import numpy as np\n",
    "import matplotlib.pyplot as plt \n",
    "%matplotlib inline\n",
    "\n",
    "\n",
    "def plot_matrix(mat):\n",
    "    fig, ax = plt.subplots()\n",
    "    h = ax.imshow(mat)\n",
    "    plt.show()\n",
    "\n",
    "def plot_points(mat, img_size=(500,500)):\n",
    "    # This should take a matrix of shape (M, 2) where\n",
    "    # M is the number of points. \n",
    "    # The values in mat could be anything, but gaurentee some shape\n",
    "    # Therefore this function dictates the size of the image in pixels\n",
    "    # TODO: zoom to remove low density areas\n",
    "    mat = np.array(mat).T\n",
    "    x_max, x_min = mat[0].max(), mat[0].min()\n",
    "    y_max, y_min = mat[1].max(), mat[1].min()\n",
    "    x_rng, y_rng = x_max - x_min, y_max - y_min\n",
    "    mul_factor_x = (img_size[0]-1)/x_rng\n",
    "    mul_factor_y = (img_size[1]-1)/y_rng\n",
    "    img = np.zeros(img_size)\n",
    "    for x, y in mat.T:\n",
    "        img[int((x - x_min)*mul_factor_x),int((y - y_min)*mul_factor_y)] = 1\n",
    "    plot_matrix(img)\n",
    "    \n",
    "\n",
    "M = 1000\n",
    "hl = np.random.random(size=(M, 2))\n",
    "\n",
    "# Test this\n",
    "print(\"Testing the plotting mechanism\")\n",
    "plot_points(hl)"
   ]
  },
  {
   "cell_type": "code",
   "execution_count": 11,
   "metadata": {},
   "outputs": [
    {
     "data": {
      "image/png": "[encoded data removed]",
      "text/plain": [
       "<matplotlib.figure.Figure at 0x13ac98c2128>"
      ]
     },
     "metadata": {},
     "output_type": "display_data"
    }
   ],
   "source": [
    "# Making sierpinski's gasket\n",
    "def sierpinski(N=500, iters=10000):\n",
    "    def F0(x,y):\n",
    "        return (x/2, y/2)\n",
    "\n",
    "    def F1(x,y):\n",
    "        return ((x+1)/2, y/2)\n",
    "\n",
    "    def F2(x,y):\n",
    "        return (x/2, (y+1)/2)\n",
    "\n",
    "    F_array = (F0, F1, F2)    \n",
    "    \n",
    "    x, y = (random.randint(0,N-1), random.randint(0,N-1))\n",
    "    mat = []\n",
    "    for i in range(iters):\n",
    "        ri = random.randint(0,2)\n",
    "        x, y = F_array[ri](x, y)\n",
    "        if i < 20:\n",
    "            continue\n",
    "        mat.append([int(x*300),int(y*300)])\n",
    "    return mat\n",
    "        \n",
    "        \n",
    "chaos = sierpinski()\n",
    "plot_points(chaos)"
   ]
  },
  {
   "cell_type": "code",
   "execution_count": 12,
   "metadata": {
    "collapsed": true
   },
   "outputs": [],
   "source": [
    "# Basic variations in the implementation of the flam3\n",
    "def r2(x, y):\n",
    "    return (x*x) + (y*y)\n",
    "\n",
    "def r(x, y):\n",
    "    return r2(x,y)**0.5\n",
    "\n",
    "def v0(x, y):\n",
    "    # Linear\n",
    "    return (x,y)\n",
    "\n",
    "def v1(x, y):\n",
    "    # Sinusoidal\n",
    "    return (math.sin(x), math.sin(y))\n",
    "\n",
    "def v2(x, y):\n",
    "    # Spherical\n",
    "    r2_calced = r2(x,y)\n",
    "    return (x/r2_calced, y/r2_calced)\n",
    "\n",
    "def v3(x, y):\n",
    "    # Swirl\n",
    "    r2_calced = r2(x,y)\n",
    "    sin_r2 = np.sin(r2_calced)\n",
    "    cos_r2 = np.cos(r2_calced)\n",
    "    return np.array([x*sin_r2 - y*cos_r2, x*cos_r2 + y*sin_r2]).T\n",
    "\n",
    "def v4(x, y):\n",
    "    # Horseshoe\n",
    "    x = np.array(x)\n",
    "    y = np.array(y)\n",
    "    return np.array([(x-y)*(x+y)/r(x,y), 2*x*y]).T"
   ]
  },
  {
   "cell_type": "code",
   "execution_count": 13,
   "metadata": {},
   "outputs": [
    {
     "data": {
      "image/png": "[encoded data removed]",
      "text/plain": [
       "<matplotlib.figure.Figure at 0x13aca6eb3c8>"
      ]
     },
     "metadata": {},
     "output_type": "display_data"
    },
    {
     "name": "stdout",
     "output_type": "stream",
     "text": [
      "345 ms ± 45.9 ms per loop (mean ± std. dev. of 7 runs, 1 loop each)\n"
     ]
    }
   ],
   "source": [
    "# Making sierpinski's gasket\n",
    "def F0(x,y):\n",
    "    return (x/2, y/2)\n",
    "\n",
    "def F1(x,y):\n",
    "    return ((x+1)/2, y/2)\n",
    "\n",
    "def F2(x,y):\n",
    "    return (x/2, (y+1)/2)\n",
    "\n",
    "def r2(x, y):\n",
    "    return (x*x) + (y*y)\n",
    "\n",
    "def v3(x, y):\n",
    "    # Swirl\n",
    "    r2_calced = r2(x,y)\n",
    "    sin_r2 = math.sin(r2_calced)\n",
    "    cos_r2 = math.cos(r2_calced)\n",
    "    return [x*sin_r2 - y*cos_r2, x*cos_r2 + y*sin_r2]    \n",
    "\n",
    "F_array = (F0, F1, F2)    \n",
    "\n",
    "def sierpinski(N=500, iters=60000):    \n",
    "    x, y = (1,1)\n",
    "    mat = []\n",
    "    for i in range(iters):\n",
    "        ri = random.randint(0,2)\n",
    "        x, y = F_array[ri](x, y)\n",
    "        if i < 1000:\n",
    "            continue\n",
    "        \n",
    "        x1, y1 = x, y\n",
    "        x1, y1 = v3(x*1.1, y*1.1) # Increase for more swirl!\n",
    "        mat.append([x1,y1])\n",
    "    return mat\n",
    "        \n",
    "        \n",
    "chaos = sierpinski()\n",
    "plot_points(chaos)\n",
    "%timeit sierpinski()"
   ]
  },
  {
   "cell_type": "markdown",
   "metadata": {},
   "source": [
    "## Making it faster\n",
    "\n",
    "We can easily make this code faster using two optomization possibilities:\n",
    "\n",
    "1. JIT compiling using numba\n",
    "2. Converting to Cython\n",
    "\n",
    "\n",
    "### First the naiive JIT version:"
   ]
  },
  {
   "cell_type": "code",
   "execution_count": 5,
   "metadata": {},
   "outputs": [
    {
     "data": {
      "image/png": "[encoded data removed]",
      "text/plain": [
       "<matplotlib.figure.Figure at 0x13aca5957b8>"
      ]
     },
     "metadata": {},
     "output_type": "display_data"
    },
    {
     "name": "stdout",
     "output_type": "stream",
     "text": [
      "262 ms ± 54.6 ms per loop (mean ± std. dev. of 7 runs, 1 loop each)\n"
     ]
    }
   ],
   "source": [
    "from numba import jit\n",
    "import math\n",
    "\n",
    "@jit\n",
    "def F0(x,y):\n",
    "    return (x/2, y/2)\n",
    "\n",
    "@jit\n",
    "def F1(x,y):\n",
    "    return ((x+1)/2, y/2)\n",
    "\n",
    "@jit\n",
    "def F2(x,y):\n",
    "    return (x/2, (y+1)/2)\n",
    "\n",
    "@jit\n",
    "def r2(x, y):\n",
    "    return (x*x) + (y*y)\n",
    "\n",
    "@jit\n",
    "def v3(x, y):\n",
    "    # Swirl\n",
    "    r2_calced = r2(x,y)\n",
    "    sin_r2 = math.sin(r2_calced)\n",
    "    cos_r2 = math.cos(r2_calced)\n",
    "    return [x*sin_r2 - y*cos_r2, x*cos_r2 + y*sin_r2]\n",
    "\n",
    "F_array = (F0, F1, F2)    \n",
    "\n",
    "@jit\n",
    "def sierpinski(N=500, iters=60000):\n",
    "    x, y = (1,1)\n",
    "    mat = []\n",
    "    for i in range(iters):\n",
    "        ri = random.randint(0,2)\n",
    "        x, y = F_array[ri](x, y)\n",
    "        if i < 1000:\n",
    "            continue\n",
    "        \n",
    "        x1, y1 = x, y\n",
    "        x1, y1 = v3(x*1.1, y*1.1) # Increase for more swirl!\n",
    "        mat.append([x1,y1])\n",
    "    return mat\n",
    "        \n",
    "        \n",
    "chaos = sierpinski()\n",
    "plot_points(chaos)\n",
    "%timeit sierpinski()"
   ]
  },
  {
   "cell_type": "markdown",
   "metadata": {},
   "source": [
    "This doubled the speed from about 200ms to 100ms. Easy! But can we do better?\n",
    "\n",
    "### JIT version expanded to use static types"
   ]
  },
  {
   "cell_type": "code",
   "execution_count": 6,
   "metadata": {
    "scrolled": false
   },
   "outputs": [
    {
     "data": {
      "image/png": "[encoded data removed]",
      "text/plain": [
       "<matplotlib.figure.Figure at 0x13ac8d77b38>"
      ]
     },
     "metadata": {},
     "output_type": "display_data"
    },
    {
     "name": "stdout",
     "output_type": "stream",
     "text": [
      "4.4 ms ± 763 µs per loop (mean ± std. dev. of 7 runs, 100 loops each)\n"
     ]
    }
   ],
   "source": [
    "from numba import jit, float32\n",
    "import numba as nb\n",
    "import numpy as np\n",
    "import math\n",
    "\n",
    "@nb.jit(nb.types.UniTuple(nb.float64,2)(nb.float64,nb.float64),nopython=True)\n",
    "def F0(x,y):\n",
    "    return (x/2, y/2)\n",
    "\n",
    "@nb.jit(nb.types.UniTuple(nb.float64,2)(nb.float64,nb.float64),nopython=True)\n",
    "def F1(x,y):\n",
    "    return ((x+1)/2, y/2)\n",
    "\n",
    "@nb.jit(nb.types.UniTuple(nb.float64,2)(nb.float64,nb.float64),nopython=True)\n",
    "def F2(x,y):\n",
    "    return (x/2, (y+1)/2)\n",
    "\n",
    "@nb.jit(nb.float64(nb.float64,nb.float64),nopython=True)\n",
    "def r2(x, y):\n",
    "    return (x*x) + (y*y)\n",
    "\n",
    "@nb.jit(nb.types.UniTuple(nb.float64,2)(nb.float64,nb.float64),nopython=True)\n",
    "def v3(x, y):\n",
    "    # Swirl\n",
    "    r2_calced = (x*x) + (y*y)\n",
    "    sin_r2 = math.sin(r2_calced)\n",
    "    cos_r2 = math.cos(r2_calced)\n",
    "    return (x*sin_r2 - y*cos_r2, x*cos_r2 + y*sin_r2)\n",
    "\n",
    "@nb.jit(nopython=True)\n",
    "def sierpinski(N=500, iters=60000, dry_fire=100):\n",
    "    x: nb.float64 = 1.\n",
    "    y: nb.float64 = 1.\n",
    "    # We have to know how many \n",
    "    mat = np.zeros((iters-dry_fire, 2))\n",
    "    for i in range(iters):\n",
    "        ri: nb.int32 = random.randint(0,2)\n",
    "        if ri == 0:\n",
    "            x, y = F0(x, y)\n",
    "        elif ri == 1:\n",
    "            x, y = F1(x, y)\n",
    "        else:\n",
    "            x, y = F2(x, y)\n",
    "            \n",
    "        if i >= dry_fire:\n",
    "            x1, y1 = x, y\n",
    "            x1, y1 = v3(x*1.1, y*1.1) # Increase for more swirl!\n",
    "            mat[i-dry_fire] = x1, y1\n",
    "    return mat\n",
    "        \n",
    "        \n",
    "chaos = sierpinski()\n",
    "plot_points(chaos)\n",
    "%timeit sierpinski()"
   ]
  },
  {
   "cell_type": "markdown",
   "metadata": {},
   "source": [
    "Now we went, just by setting expected input and outpu types, from 100ms to ~2ms. A **50x** speedup from naiive Numba JIT. \n",
    "\n",
    "### How does that compare to Cython?\n",
    "\n",
    "To work with Cython we have to expand the entire code-base to be friendly with Cython. Numba did a good job with minimal work, but Cython requires a lot of refactoring and knowledge on how to move from Python to the Python-like Cython language. \n",
    "\n",
    "The approach follows a basic principle: you are limited to basic C-types and actions.\n",
    "\n",
    "+ Return basic types (not tuples or numpy arrays)\n",
    "+ Expand loops and using indexing\n",
    "+ Try to create and use as few arrays as possible\n",
    "\n",
    "The result is the following:"
   ]
  },
  {
   "cell_type": "code",
   "execution_count": 7,
   "metadata": {
    "collapsed": true
   },
   "outputs": [],
   "source": [
    "%load_ext Cython"
   ]
  },
  {
   "cell_type": "code",
   "execution_count": 8,
   "metadata": {
    "collapsed": true
   },
   "outputs": [],
   "source": [
    "%%cython\n",
    "\n",
    "import numpy as np\n",
    "cimport numpy as np\n",
    "import cython\n",
    "cimport cython\n",
    "from libc.math cimport sin, cos\n",
    "from cpython cimport array\n",
    "\n",
    "# Making sierpinski's gasket\n",
    "cdef double F0_x(double x):\n",
    "    return x/2\n",
    "\n",
    "cdef double F0_y(double y):\n",
    "    return y/2\n",
    "\n",
    "cdef double F1_x(double x):\n",
    "    return (x+1)/2\n",
    "    \n",
    "cdef double F1_y(double y):\n",
    "    return y/2\n",
    "\n",
    "cdef double F2_x(double x):\n",
    "    return x/2\n",
    "\n",
    "cdef double F2_y(double y):\n",
    "    return (y+1)/2\n",
    "\n",
    "cdef double r2(double x, double y):\n",
    "    return (x*x) + (y*y)\n",
    "\n",
    "cdef double v3_x(double x, double y, double r2_calced):\n",
    "    # Swirl\n",
    "    cdef double sin_r2 = sin(r2_calced)\n",
    "    cdef double cos_r2 = cos(r2_calced)\n",
    "    return x*sin_r2 - y*cos_r2\n",
    "\n",
    "cdef double v3_y(double x, double y, double r2_calced):\n",
    "    # Swirl\n",
    "    cdef double sin_r2 = sin(r2_calced)\n",
    "    cdef double cos_r2 = cos(r2_calced)\n",
    "    return x*cos_r2 + y*sin_r2\n",
    "\n",
    "cpdef np.ndarray sierpinski(int N=500, int iters=60000, int dry_fire=100):   \n",
    "    cdef double x = 1.\n",
    "    cdef double y = 1.\n",
    "    cdef double x1 = 1.\n",
    "    cdef double y1 = 1.\n",
    "    cdef np.ndarray[double, ndim=2] mat = np.zeros((iters-dry_fire, 2), dtype=np.double)\n",
    "    cdef np.ndarray[int, ndim=1] ri = np.random.randint(3,  size=iters, dtype=int)\n",
    "    cdef int i\n",
    "    cdef int r\n",
    "    cdef double r2_calced\n",
    "    for i in range(iters):\n",
    "        r = ri[i]\n",
    "        if r == 0:\n",
    "            x = F0_x(x)\n",
    "            y = F0_y(y)\n",
    "        elif r == 1:\n",
    "            x = F1_x(x)\n",
    "            y = F1_y(y)\n",
    "        else:\n",
    "            x = F2_x(x)\n",
    "            y = F2_y(y)            \n",
    "        if i >= 1000:\n",
    "            r2_calced = r2(x, y)\n",
    "            x1 = v3_x(x*1.1, y*1.1, r2_calced)\n",
    "            y1 = v3_y(x*1.1, y*1.1, r2_calced)\n",
    "            mat[i-dry_fire, 0] = x1\n",
    "            mat[i-dry_fire, 1] = y1\n",
    "    return mat\n",
    "        \n",
    "        \n",
    "chaos = sierpinski()"
   ]
  },
  {
   "cell_type": "code",
   "execution_count": 9,
   "metadata": {},
   "outputs": [
    {
     "data": {
      "image/png": "[encoded data removed]",
      "text/plain": [
       "<matplotlib.figure.Figure at 0x13aca58d550>"
      ]
     },
     "metadata": {},
     "output_type": "display_data"
    },
    {
     "name": "stdout",
     "output_type": "stream",
     "text": [
      "3.72 ms ± 328 µs per loop (mean ± std. dev. of 7 runs, 100 loops each)\n"
     ]
    }
   ],
   "source": [
    "plot_points(chaos)\n",
    "%timeit sierpinski()"
   ]
  },
  {
   "cell_type": "markdown",
   "metadata": {},
   "source": [
    "Amazingly, Cython beats Numba:\n",
    "\n",
    "+ Numba ran in 4.4ms\n",
    "+ Cython ran in 3.72ms\n",
    "\n",
    "But the question remains: was the time spend optimizing in Cython worth it? \n",
    "\n",
    "### Looking at the Cython code\n",
    "\n",
    "Cython provides a friendly way to debug speed improvements using Jupyter. Above we saw highlighted sections of code indicating a large amount of boilerplate code to allow Cython to talk to Python Objects. The darker the highlight, the smaller the speed improvements. \n",
    "\n",
    "Notice that the only dark highlights are the following:\n",
    "\n",
    "+ `numpy` import\n",
    "+ `cpdef` function\n",
    "+ `ndarray` objects\n",
    "\n",
    "The lighter highlights are always index accessors to our `ndarray` objects. \n",
    "\n",
    "I take for granted that this could be further sped up in both instances, but for now this code runs quickly enough that we can call this experiment a success."
   ]
  },
  {
   "cell_type": "code",
   "execution_count": null,
   "metadata": {
    "collapsed": true
   },
   "outputs": [],
   "source": []
  }
 ],
 "metadata": {
  "kernelspec": {
   "display_name": "Python 3",
   "language": "python",
   "name": "python3"
  },
  "language_info": {
   "codemirror_mode": {
    "name": "ipython",
    "version": 3
   },
   "file_extension": ".py",
   "mimetype": "text/x-python",
   "name": "python",
   "nbconvert_exporter": "python",
   "pygments_lexer": "ipython3",
   "version": "3.6.3"
  }
 },
 "nbformat": 4,
 "nbformat_minor": 2
}
